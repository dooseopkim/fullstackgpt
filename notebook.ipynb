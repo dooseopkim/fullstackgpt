{
 "cells": [
  {
   "cell_type": "code",
   "execution_count": null,
   "outputs": [],
   "source": [
    "\"\"\"\n",
    "#6.6 RetrievalQA (18:22)\n",
    "\n",
    "Stuff : 나의 document 들로 prompt를 stuff(채우기)\n",
    "Refine : 각각의 document를 지속적으로 업데이트 하면서 정제한다.\n",
    "Map Reduce : 각각의 document를 입력받아서 각각에 대한 요약 작업을 하고, 요약본을 LLM에게 전잘\n",
    "Map Rerank : 질문과 관련된 document를 통해 답변 생성하고, 각 점수를 매겨 가장 높은 점수를 획득한 답변과 그 점수를 반환\n",
    "\"\"\""
   ],
   "metadata": {
    "collapsed": false
   }
  },
  {
   "cell_type": "code",
   "execution_count": 5,
   "outputs": [
    {
     "data": {
      "text/plain": "True"
     },
     "execution_count": 5,
     "metadata": {},
     "output_type": "execute_result"
    }
   ],
   "source": [
    "from dotenv import load_dotenv\n",
    "\n",
    "load_dotenv()  # .env 파일을 환경 변수로 로드"
   ],
   "metadata": {
    "collapsed": false,
    "ExecuteTime": {
     "end_time": "2025-06-02T15:44:05.535478800Z",
     "start_time": "2025-06-02T15:44:05.516384700Z"
    }
   }
  },
  {
   "cell_type": "code",
   "execution_count": 6,
   "outputs": [],
   "source": [
    "from langchain.chat_models import ChatOpenAI\n",
    "from langchain.document_loaders import UnstructuredFileLoader\n",
    "from langchain.text_splitter import CharacterTextSplitter\n",
    "from langchain.embeddings import OpenAIEmbeddings,CacheBackedEmbeddings\n",
    "from langchain.vectorstores import Chroma,FAISS # 가끔가다 FAISS가 더 좋음\n",
    "from langchain.storage import LocalFileStore\n",
    "from langchain.chains import RetrievalQA\n",
    "\n",
    "llm = ChatOpenAI()\n",
    "cache_dir = LocalFileStore(\"./.cache/\")\n",
    "\n",
    "# chunk_size : 얼마나 큰 덩어리로 나눌지 결정할 수 있음\n",
    "# chunk_overlap : 문장이나 문단을 분할할 때 앞 조각 일부분을 가져옴\n",
    "splitter = CharacterTextSplitter.from_tiktoken_encoder(\n",
    "    separator=\"\\n\",\n",
    "    chunk_size=600,\n",
    "    chunk_overlap=100\n",
    ")\n",
    "\n",
    "loader = UnstructuredFileLoader(\"./files/현진건-운수_좋은_날.txt\",encoding=\"utf-8\")\n",
    "\n",
    "docs = loader.load_and_split(text_splitter=splitter)\n",
    "\n",
    "embeddings = OpenAIEmbeddings()\n",
    "\n",
    "cached_embeddings = CacheBackedEmbeddings.from_bytes_store(\n",
    "    embeddings, cache_dir\n",
    ")\n",
    "\n",
    "vectorstore = FAISS.from_documents(docs, cached_embeddings)"
   ],
   "metadata": {
    "collapsed": false,
    "ExecuteTime": {
     "end_time": "2025-06-02T15:44:07.500506100Z",
     "start_time": "2025-06-02T15:44:06.561652900Z"
    }
   }
  },
  {
   "cell_type": "code",
   "execution_count": 7,
   "outputs": [
    {
     "data": {
      "text/plain": "'주어진 새로운 맥락을 고려하여, 김첨지의 직업은 인력거꾼일 수 있습니다. 이는 김첨지가 정거장에서 아낙인을 모셔다 드리겠다는 제안을 하고, 댁이 어디신가요라고 물어보며 여자에게 손을 대는 장면이 나오기 때문입니다. 또한, 김첨지가 전차를 타는 사람을 노리고 있다가 손에 큰 가방을 들고 있는 모습이 등장하는데, 이는 인력거꾼이 짐을 나르는 역할을 수행하는 직업이기 때문입니다.'"
     },
     "execution_count": 7,
     "metadata": {},
     "output_type": "execute_result"
    }
   ],
   "source": [
    "chain = RetrievalQA.from_chain_type(\n",
    "    llm=llm,\n",
    "    chain_type=\"refine\",\n",
    "    retriever=vectorstore.as_retriever(),\n",
    ")\n",
    "\n",
    "chain.run(\"김첨지의 직업은 무엇인가\")"
   ],
   "metadata": {
    "collapsed": false,
    "ExecuteTime": {
     "end_time": "2025-06-02T15:44:17.231837700Z",
     "start_time": "2025-06-02T15:44:08.635559700Z"
    }
   }
  },
  {
   "cell_type": "code",
   "execution_count": null,
   "outputs": [],
   "source": [],
   "metadata": {
    "collapsed": false
   }
  }
 ],
 "metadata": {
  "kernelspec": {
   "display_name": "Python 3",
   "language": "python",
   "name": "python3"
  },
  "language_info": {
   "codemirror_mode": {
    "name": "ipython",
    "version": 2
   },
   "file_extension": ".py",
   "mimetype": "text/x-python",
   "name": "python",
   "nbconvert_exporter": "python",
   "pygments_lexer": "ipython2",
   "version": "2.7.6"
  }
 },
 "nbformat": 4,
 "nbformat_minor": 0
}
