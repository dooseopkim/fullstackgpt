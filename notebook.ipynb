{
 "cells": [
  {
   "cell_type": "code",
   "execution_count": 12,
   "outputs": [],
   "source": [
    "\"\"\"\n",
    "요약\n",
    "ConversationBufferWindowMemory 는 대화의 특정 부분만을 저장한다.\n",
    "최근 5개 메시지만 저장한다고 설정하면 6번째 대화부터는 삭제된다.\n",
    "메모리를 특정 크기로 유지할 수 있다는 게 장점.\n",
    "최근 대화에만 집중한다는게 단점.\n",
    "\"\"\"\n",
    "from langchain.memory import ConversationBufferWindowMemory"
   ],
   "metadata": {
    "collapsed": false,
    "ExecuteTime": {
     "end_time": "2025-05-28T15:11:48.099679500Z",
     "start_time": "2025-05-28T15:11:48.094172900Z"
    }
   }
  },
  {
   "cell_type": "code",
   "execution_count": 13,
   "outputs": [],
   "source": [
    "memory = ConversationBufferWindowMemory(\n",
    "    return_messages=True,\n",
    "    k=4\n",
    ")\n",
    "# k 값은 저장할 대화 갯수 (버퍼 윈도우 사이즈)"
   ],
   "metadata": {
    "collapsed": false,
    "ExecuteTime": {
     "end_time": "2025-05-28T15:15:07.294651400Z",
     "start_time": "2025-05-28T15:15:07.278962Z"
    }
   }
  },
  {
   "cell_type": "code",
   "execution_count": 14,
   "outputs": [],
   "source": [
    "def add_message(input, output):\n",
    "    memory.save_context({\"input\":input},{\"output\":output})"
   ],
   "metadata": {
    "collapsed": false,
    "ExecuteTime": {
     "end_time": "2025-05-28T15:16:13.599795800Z",
     "start_time": "2025-05-28T15:16:13.590279500Z"
    }
   }
  },
  {
   "cell_type": "code",
   "execution_count": 15,
   "outputs": [],
   "source": [
    "add_message(1,1)\n",
    "add_message(2,2)\n",
    "add_message(3,3)\n",
    "add_message(4,4)\n",
    "add_message(5,5) # k가 4로 설정되었기에 (1,1) 값은 날라감"
   ],
   "metadata": {
    "collapsed": false,
    "ExecuteTime": {
     "end_time": "2025-05-28T15:16:43.243604900Z",
     "start_time": "2025-05-28T15:16:43.237067100Z"
    }
   }
  },
  {
   "cell_type": "code",
   "execution_count": 16,
   "outputs": [
    {
     "data": {
      "text/plain": "{'history': [HumanMessage(content='2'),\n  AIMessage(content='2'),\n  HumanMessage(content='3'),\n  AIMessage(content='3'),\n  HumanMessage(content='4'),\n  AIMessage(content='4'),\n  HumanMessage(content='5'),\n  AIMessage(content='5')]}"
     },
     "execution_count": 16,
     "metadata": {},
     "output_type": "execute_result"
    }
   ],
   "source": [
    "memory.load_memory_variables({})"
   ],
   "metadata": {
    "collapsed": false,
    "ExecuteTime": {
     "end_time": "2025-05-28T15:16:51.888040500Z",
     "start_time": "2025-05-28T15:16:51.881016900Z"
    }
   }
  },
  {
   "cell_type": "code",
   "execution_count": null,
   "outputs": [],
   "source": [],
   "metadata": {
    "collapsed": false
   }
  }
 ],
 "metadata": {
  "kernelspec": {
   "display_name": "Python 3",
   "language": "python",
   "name": "python3"
  },
  "language_info": {
   "codemirror_mode": {
    "name": "ipython",
    "version": 2
   },
   "file_extension": ".py",
   "mimetype": "text/x-python",
   "name": "python",
   "nbconvert_exporter": "python",
   "pygments_lexer": "ipython2",
   "version": "2.7.6"
  }
 },
 "nbformat": 4,
 "nbformat_minor": 0
}
