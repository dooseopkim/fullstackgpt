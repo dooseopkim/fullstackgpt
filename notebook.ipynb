{
 "cells": [
  {
   "cell_type": "code",
   "execution_count": 8,
   "outputs": [
    {
     "data": {
      "text/plain": "True"
     },
     "execution_count": 8,
     "metadata": {},
     "output_type": "execute_result"
    }
   ],
   "source": [
    "from dotenv import load_dotenv\n",
    "\n",
    "load_dotenv()  # .env 파일을 환경 변수로 로드"
   ],
   "metadata": {
    "collapsed": false,
    "ExecuteTime": {
     "end_time": "2025-05-26T16:24:54.152105100Z",
     "start_time": "2025-05-26T16:24:54.099572200Z"
    }
   }
  },
  {
   "cell_type": "code",
   "execution_count": 53,
   "outputs": [],
   "source": [
    "from langchain.llms.openai import OpenAI\n",
    "from langchain.chat_models import ChatOpenAI\n",
    "from langchain.prompts import ChatPromptTemplate\n",
    "from langchain.schema import HumanMessage, AIMessage, SystemMessage,BaseOutputParser\n",
    "from langchain.callbacks import StreamingStdOutCallbackHandler"
   ],
   "metadata": {
    "collapsed": false,
    "ExecuteTime": {
     "end_time": "2025-05-26T17:40:41.548975400Z",
     "start_time": "2025-05-26T17:40:41.531304100Z"
    }
   }
  },
  {
   "cell_type": "code",
   "execution_count": 54,
   "outputs": [],
   "source": [
    "chat = ChatOpenAI(\n",
    "    temperature=0.1,\n",
    "    streaming=True,\n",
    "    callbacks=[StreamingStdOutCallbackHandler()]\n",
    ")"
   ],
   "metadata": {
    "collapsed": false,
    "ExecuteTime": {
     "end_time": "2025-05-26T17:40:41.985717200Z",
     "start_time": "2025-05-26T17:40:41.971893900Z"
    }
   }
  },
  {
   "cell_type": "code",
   "execution_count": 61,
   "outputs": [],
   "source": [
    "poetry_template = ChatPromptTemplate.from_messages([\n",
    "    (\"system\", \"You are a poet.No matter the subject, you create beautiful poetry\"),\n",
    "    (\"human\",\"Write a poem in the programming language {language}.\")\n",
    "])"
   ],
   "metadata": {
    "collapsed": false,
    "ExecuteTime": {
     "end_time": "2025-05-26T17:54:00.663600100Z",
     "start_time": "2025-05-26T17:54:00.654616Z"
    }
   }
  },
  {
   "cell_type": "code",
   "execution_count": 62,
   "outputs": [],
   "source": [
    "poetry_chain = poetry_template | chat"
   ],
   "metadata": {
    "collapsed": false,
    "ExecuteTime": {
     "end_time": "2025-05-26T17:54:01.317049600Z",
     "start_time": "2025-05-26T17:54:01.302827800Z"
    }
   }
  },
  {
   "cell_type": "code",
   "execution_count": 63,
   "outputs": [],
   "source": [
    "editor_prompt = ChatPromptTemplate.from_messages([(\"system\",\"You are a literary expert.You majored in poetry and specialize in interpreting beautiful poems.You are well known for explaining them in a simple and accessible way.\"),(\"human\",\"{poem}\")])"
   ],
   "metadata": {
    "collapsed": false,
    "ExecuteTime": {
     "end_time": "2025-05-26T17:54:01.941879Z",
     "start_time": "2025-05-26T17:54:01.925440200Z"
    }
   }
  },
  {
   "cell_type": "code",
   "execution_count": 64,
   "outputs": [],
   "source": [
    "editor_chain = editor_prompt | chat"
   ],
   "metadata": {
    "collapsed": false,
    "ExecuteTime": {
     "end_time": "2025-05-26T17:54:02.599906400Z",
     "start_time": "2025-05-26T17:54:02.586890100Z"
    }
   }
  },
  {
   "cell_type": "code",
   "execution_count": 65,
   "outputs": [
    {
     "name": "stdout",
     "output_type": "stream",
     "text": [
      "In the realm of code, where logic reigns supreme,\n",
      "Python whispers softly, like a poet's dream.\n",
      "Its syntax dances gracefully, line by line,\n",
      "Creating beauty in its design.\n",
      "\n",
      "Indentation guides the flow of thought,\n",
      "In loops and functions, patterns sought.\n",
      "Variables hold secrets untold,\n",
      "As algorithms unfold.\n",
      "\n",
      "From strings to lists, dictionaries too,\n",
      "Python weaves a tapestry, vibrant and true.\n",
      "With libraries vast, the world it can explore,\n",
      "In data science, AI, and so much more.\n",
      "\n",
      "So let us embrace this language of grace,\n",
      "And let our creativity find its place.\n",
      "In the world of code, where wonders abound,\n",
      "Python's poetry will always resound.This poem beautifully captures the essence of Python programming language, comparing it to poetry and highlighting its elegance and versatility. \n",
      "\n",
      "The poet begins by setting the scene in the \"realm of code,\" where logic is king, and introduces Python as a soft whisper akin to a dream of a poet. This sets the tone for the rest of the poem, emphasizing the beauty and creativity that Python brings to the world of programming.\n",
      "\n",
      "The poem goes on to describe Python's syntax as graceful and its design as creating beauty, showcasing how the language's structure can be aesthetically pleasing. The mention of indentation guiding the flow of thought in loops and functions reflects the importance of structure and organization in coding.\n",
      "\n",
      "The poet also touches on the power of variables and algorithms in Python, hinting at the mysteries and complexities that can be unraveled through programming. The reference to strings, lists, and dictionaries showcases the variety and richness of Python's capabilities in handling different data types.\n",
      "\n",
      "Furthermore, the poem celebrates Python's versatility by mentioning its use in data science, AI, and other fields, highlighting the vast possibilities that the language offers. The mention of libraries further emphasizes Python's ability to explore and interact with a wide range of applications and technologies.\n",
      "\n",
      "In the closing stanzas, the poet encourages embracing Python as a language of grace and creativity, inviting readers to find their place in the world of code where Python's poetry will always resonate. This serves as a reminder of the beauty and artistry that can be found in programming, especially when using a language as expressive and versatile as Python."
     ]
    },
    {
     "data": {
      "text/plain": "AIMessageChunk(content='This poem beautifully captures the essence of Python programming language, comparing it to poetry and highlighting its elegance and versatility. \\n\\nThe poet begins by setting the scene in the \"realm of code,\" where logic is king, and introduces Python as a soft whisper akin to a dream of a poet. This sets the tone for the rest of the poem, emphasizing the beauty and creativity that Python brings to the world of programming.\\n\\nThe poem goes on to describe Python\\'s syntax as graceful and its design as creating beauty, showcasing how the language\\'s structure can be aesthetically pleasing. The mention of indentation guiding the flow of thought in loops and functions reflects the importance of structure and organization in coding.\\n\\nThe poet also touches on the power of variables and algorithms in Python, hinting at the mysteries and complexities that can be unraveled through programming. The reference to strings, lists, and dictionaries showcases the variety and richness of Python\\'s capabilities in handling different data types.\\n\\nFurthermore, the poem celebrates Python\\'s versatility by mentioning its use in data science, AI, and other fields, highlighting the vast possibilities that the language offers. The mention of libraries further emphasizes Python\\'s ability to explore and interact with a wide range of applications and technologies.\\n\\nIn the closing stanzas, the poet encourages embracing Python as a language of grace and creativity, inviting readers to find their place in the world of code where Python\\'s poetry will always resonate. This serves as a reminder of the beauty and artistry that can be found in programming, especially when using a language as expressive and versatile as Python.')"
     },
     "execution_count": 65,
     "metadata": {},
     "output_type": "execute_result"
    }
   ],
   "source": [
    "final_chain = {\"poem\":poetry_chain} | editor_chain\n",
    "final_chain.invoke({\"language\":\"Python\"})"
   ],
   "metadata": {
    "collapsed": false,
    "ExecuteTime": {
     "end_time": "2025-05-26T17:54:08.353900Z",
     "start_time": "2025-05-26T17:54:03.273011700Z"
    }
   }
  },
  {
   "cell_type": "code",
   "execution_count": null,
   "outputs": [],
   "source": [],
   "metadata": {
    "collapsed": false
   }
  }
 ],
 "metadata": {
  "kernelspec": {
   "display_name": "Python 3",
   "language": "python",
   "name": "python3"
  },
  "language_info": {
   "codemirror_mode": {
    "name": "ipython",
    "version": 2
   },
   "file_extension": ".py",
   "mimetype": "text/x-python",
   "name": "python",
   "nbconvert_exporter": "python",
   "pygments_lexer": "ipython2",
   "version": "2.7.6"
  }
 },
 "nbformat": 4,
 "nbformat_minor": 0
}
