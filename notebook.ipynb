{
 "cells": [
  {
   "cell_type": "code",
   "execution_count": null,
   "outputs": [],
   "source": [
    "\"\"\"\n",
    "#6.2 Tiktoken (04:19)\n",
    "\n",
    "Model은 token 간의 통계적인 관계를 이해하도록 학습함\n",
    "Model은 Limit 있어서, 원하는 텍스트들을 한번에 입력할 수 없음\n",
    "\n",
    "#6.3 Vectors (11:56)\n",
    "\n",
    "Embed은 사람이 읽는 텍스트를 컴퓨터가 이해할 수 있는 숫자들로 변환하는 작업\n",
    "벡터 좀 더 정확히느 벡터화\n",
    "문서마다각각의 벡터를 잡아줌.\n",
    "우리는 단어에 3차원 벡터를 적용함. Openai 모델은 천 개 이상 차원 가능\n",
    "1차원 Masculinity(남성성)\n",
    "2차원 Feminity(여성성)\n",
    "3차원 Royalty(왕족스러움\n",
    "\"\"\""
   ],
   "metadata": {
    "collapsed": false
   }
  },
  {
   "cell_type": "code",
   "execution_count": 1,
   "outputs": [
    {
     "data": {
      "text/plain": "True"
     },
     "execution_count": 1,
     "metadata": {},
     "output_type": "execute_result"
    }
   ],
   "source": [
    "from dotenv import load_dotenv\n",
    "\n",
    "load_dotenv()  # .env 파일을 환경 변수로 로드"
   ],
   "metadata": {
    "collapsed": false,
    "ExecuteTime": {
     "end_time": "2025-06-01T15:42:36.144468200Z",
     "start_time": "2025-06-01T15:42:36.120981100Z"
    }
   }
  },
  {
   "cell_type": "code",
   "execution_count": 22,
   "outputs": [],
   "source": [
    "from langchain.chat_models import ChatOpenAI\n",
    "from langchain.document_loaders import UnstructuredFileLoader\n",
    "from langchain.text_splitter import CharacterTextSplitter\n",
    "from langchain.embeddings import OpenAIEmbeddings,CacheBackedEmbeddings\n",
    "from langchain.vectorstores import Chroma\n",
    "from langchain.storage import LocalFileStore\n",
    "\n",
    "# chunk_size : 얼마나 큰 덩어리로 나눌지 결정할 수 있음\n",
    "# chunk_overlap : 문장이나 문단을 분할할 때 앞 조각 일부분을 가져옴\n",
    "splitter = CharacterTextSplitter.from_tiktoken_encoder(\n",
    "    separator=\"\\n\",\n",
    "    chunk_size=600,\n",
    "    chunk_overlap=100\n",
    ")\n",
    "\n",
    "cache_dir = LocalFileStore(\"./.cache/\")\n",
    "\n",
    "loader = UnstructuredFileLoader(\"./files/현진건-운수_좋은_날.txt\",encoding=\"utf-8\")\n",
    "\n",
    "docs = loader.load_and_split(text_splitter=splitter)\n",
    "\n",
    "embeddings = OpenAIEmbeddings()\n",
    "\n",
    "cached_embeddings = CacheBackedEmbeddings.from_bytes_store(\n",
    "    embeddings, cache_dir\n",
    ")\n",
    "\n",
    "vectorstore = Chroma.from_documents(docs, cached_embeddings)"
   ],
   "metadata": {
    "collapsed": false,
    "ExecuteTime": {
     "end_time": "2025-06-01T16:45:37.606168700Z",
     "start_time": "2025-06-01T16:45:36.991008300Z"
    }
   }
  },
  {
   "cell_type": "code",
   "execution_count": 71,
   "outputs": [],
   "source": [
    "examples = [\n",
    "    {\n",
    "        \"movie\": \"Top Gun\",\n",
    "        \"emojis\": \"🛩️👨‍✈️🔥\",\n",
    "    },\n",
    "    {\n",
    "        \"movie\": \"The Godfather\",\n",
    "        \"emojis\": \"👨‍👨‍👦🔫🍝\",\n",
    "    },\n",
    "    {\n",
    "        \"movie\": \"The Lion King\",\n",
    "        \"emojis\": \"🦁👑🌍\",\n",
    "    },\n",
    "    {\n",
    "        \"movie\": \"The Lord of the Rings\",\n",
    "        \"emojis\": \"🧙‍♂️💍🔥\",\n",
    "    },\n",
    "]"
   ],
   "metadata": {
    "collapsed": false,
    "ExecuteTime": {
     "end_time": "2025-05-29T16:58:33.340745700Z",
     "start_time": "2025-05-29T16:58:33.328737200Z"
    }
   }
  },
  {
   "cell_type": "code",
   "execution_count": 17,
   "outputs": [
    {
     "data": {
      "text/plain": "[Document(page_content='치삼의 끄는 손을 뿌리치더니 김첨지는 눈물이 글썽글썽한 눈으로 싱그레\\n웃는다.\\n“죽기는 누가 죽어.”\\n하고 득의가 양양.\\n“죽기는 왜 죽어, 생때같이 살아만 있단다. 그 오라질 년이 밥을 죽이지.\\n인제 나한테 속았다.”\\n하고 어린애 모양으로 손뼉을 치며 웃는다.\\n“이 사람이 정말 미쳤단 말인가. 나도 아주먼네가 앓는단 말은 들었는\\n데.”\\n하고 치삼이도 어느 불안을 느끼는 듯이 김첨지에게 또 돌아가라고 권하였\\n다.\\n“안 죽었어, 안 죽었대도 그래.”', metadata={'source': './files/현진건-운수_좋은_날.txt'}),\n Document(page_content='“우리 마누라가 죽었다네.”\\n“뭐, 마누라가 죽다니, 언제?”\\n“이놈아 언제는, 오늘이지.”\\n“엣기 미친놈, 거짓말 말아.”\\n“거짓말은 왜, 참말로 죽었어, 참말로…… 마누라 시체를 집에 뻐들쳐 놓\\n고 내가 술을 먹다니, 내가 죽일 놈이야, 죽일 놈이야.”\\n하고 김첨지는 엉엉 소리를 내어 운다.\\n치삼은 흥이 조금 깨어지는 얼굴로,\\n“원 이 사람이, 참말을 하나 거짓말을 하나. 그러면 집으로 가세, 가.”\\n하고 우는 이의 팔을 잡아당기었다.\\n치삼의 끄는 손을 뿌리치더니 김첨지는 눈물이 글썽글썽한 눈으로 싱그레\\n웃는다.', metadata={'source': './files/현진건-운수_좋은_날.txt'}),\n Document(page_content='(세살먹이)에게 죽을 사줄 수도 있다 - 팔십 전을 손에 쥔 김 첨지의 마음\\n은 푼푼하였다.\\n그러나 그의 행운은 그걸로 그치지 않았다. 땀과 빗물이 섞여 흐르는 목덜\\n미를 기름주머니가 다된 왜목 수건으로 닦으며, 그 학교 문을 돌아 나올 때\\n였다. 뒤에서 “인력거!” 하고 부르는 소리가 난다. 자기를 불러 멈춘 사\\n람이 그 학교 학생인 줄 김첨지는 한번 보고 짐작할 수 있었다. 그 학생은\\n다짜고짜로,\\n“남대문 정거장까지 얼마요.”\\n라고 물었다. 아마도 그 학교 기숙사에 있는 이로 동기방학을 이용하여 귀', metadata={'source': './files/현진건-운수_좋은_날.txt'}),\n Document(page_content='“이 눈깔! 이 눈깔! 왜 나를 바라보지 못하고 천장만 보느냐, 응.”\\n하는 말 끝엔 목이 메였다. 그러자 산 사람의 눈에서 떨어진 닭의 똥 같은\\n눈물이 죽은 이의 뻣뻣한 얼굴을 어룽어룽 적시었다. 문득 김첨지는 미친\\n듯이 제 얼굴을 죽은 이의 얼굴에 한데 비비대며 중얼거렸다.\\n“설렁탕을 사다 놓았는데 왜 먹지를 못하니, 왜 먹지를 못하니…… 괴상\\n하게도 오늘은! 운수가, 좋더니만…….”', metadata={'source': './files/현진건-운수_좋은_날.txt'})]"
     },
     "execution_count": 17,
     "metadata": {},
     "output_type": "execute_result"
    }
   ],
   "source": [
    "vectorstore.similarity_search(\"왜 죽었지\")"
   ],
   "metadata": {
    "collapsed": false,
    "ExecuteTime": {
     "end_time": "2025-06-01T16:31:10.316734500Z",
     "start_time": "2025-06-01T16:31:09.698608200Z"
    }
   }
  },
  {
   "cell_type": "code",
   "execution_count": 72,
   "outputs": [],
   "source": [
    "llm = ChatOpenAI(temperature=0.1)\n",
    "memory = ConversationSummaryBufferMemory(\n",
    "    llm=llm,\n",
    "    max_token_limit=120,\n",
    "    return_messages=True, # 메세지 형태로 출력\n",
    ")"
   ],
   "metadata": {
    "collapsed": false,
    "ExecuteTime": {
     "end_time": "2025-05-29T16:58:34.044071300Z",
     "start_time": "2025-05-29T16:58:34.026628500Z"
    }
   }
  },
  {
   "cell_type": "code",
   "execution_count": 73,
   "outputs": [],
   "source": [
    "example_prompt = ChatPromptTemplate.from_messages(\n",
    "    [\n",
    "        (\"human\", \"{movie}\"),\n",
    "        (\"ai\", \"{emojis}\"),\n",
    "    ]\n",
    ")"
   ],
   "metadata": {
    "collapsed": false,
    "ExecuteTime": {
     "end_time": "2025-05-29T16:58:35.525013400Z",
     "start_time": "2025-05-29T16:58:35.506912200Z"
    }
   }
  },
  {
   "cell_type": "code",
   "execution_count": 74,
   "outputs": [],
   "source": [
    "example_prompt = FewShotChatMessagePromptTemplate(\n",
    "    example_prompt=example_prompt,\n",
    "    examples=examples,\n",
    ")"
   ],
   "metadata": {
    "collapsed": false,
    "ExecuteTime": {
     "end_time": "2025-05-29T16:58:36.987382700Z",
     "start_time": "2025-05-29T16:58:36.973427900Z"
    }
   }
  },
  {
   "cell_type": "code",
   "execution_count": 75,
   "outputs": [],
   "source": [
    "final_prompt = ChatPromptTemplate.from_messages(\n",
    "    [\n",
    "        (\"system\", \"I'm an emoji master with creativity. Here's a movie expressed with 3 emojis.\"),\n",
    "        example_prompt,\n",
    "        (\"human\", \"{movie}\"),\n",
    "    ]\n",
    ")"
   ],
   "metadata": {
    "collapsed": false,
    "ExecuteTime": {
     "end_time": "2025-05-29T16:58:37.555045700Z",
     "start_time": "2025-05-29T16:58:37.537045600Z"
    }
   }
  },
  {
   "cell_type": "code",
   "execution_count": 80,
   "outputs": [],
   "source": [
    "def load_memory(_):\n",
    "    return memory.load_memory_variables({})[\"history\"]"
   ],
   "metadata": {
    "collapsed": false,
    "ExecuteTime": {
     "end_time": "2025-05-29T16:59:09.005082400Z",
     "start_time": "2025-05-29T16:59:08.974396700Z"
    }
   }
  },
  {
   "cell_type": "code",
   "execution_count": 81,
   "outputs": [],
   "source": [
    "chain = RunnablePassthrough.assign(history=load_memory) | final_prompt | llm"
   ],
   "metadata": {
    "collapsed": false,
    "ExecuteTime": {
     "end_time": "2025-05-29T16:59:09.325565800Z",
     "start_time": "2025-05-29T16:59:09.318562700Z"
    }
   }
  },
  {
   "cell_type": "code",
   "execution_count": 82,
   "outputs": [],
   "source": [
    "def invoke_chain(movie):\n",
    "    result = chain.invoke({\"movie\": movie})\n",
    "    memory.save_context(\n",
    "        {\"input\": movie},\n",
    "        {\"output\": result.content},\n",
    "    )\n",
    "    print(result)"
   ],
   "metadata": {
    "collapsed": false,
    "ExecuteTime": {
     "end_time": "2025-05-29T16:59:09.678281800Z",
     "start_time": "2025-05-29T16:59:09.651180600Z"
    }
   }
  },
  {
   "cell_type": "code",
   "execution_count": 83,
   "outputs": [
    {
     "name": "stdout",
     "output_type": "stream",
     "text": [
      "content='🔧🦸\\u200d♂️💥'\n"
     ]
    }
   ],
   "source": [
    "invoke_chain(\"Iron Man\")"
   ],
   "metadata": {
    "collapsed": false,
    "ExecuteTime": {
     "end_time": "2025-05-29T16:59:11.579533900Z",
     "start_time": "2025-05-29T16:59:10.132884900Z"
    }
   }
  },
  {
   "cell_type": "code",
   "execution_count": 84,
   "outputs": [
    {
     "name": "stdout",
     "output_type": "stream",
     "text": [
      "content='🦇🃏🦹\\u200d♂️'\n"
     ]
    }
   ],
   "source": [
    "invoke_chain(\"The Dark Knight\")"
   ],
   "metadata": {
    "collapsed": false,
    "ExecuteTime": {
     "end_time": "2025-05-29T17:00:56.127456400Z",
     "start_time": "2025-05-29T17:00:55.336682600Z"
    }
   }
  },
  {
   "cell_type": "code",
   "execution_count": 85,
   "outputs": [
    {
     "name": "stdout",
     "output_type": "stream",
     "text": [
      "content='🚀⏳🌌'\n"
     ]
    }
   ],
   "source": [
    "invoke_chain(\"Interstellar\")"
   ],
   "metadata": {
    "collapsed": false,
    "ExecuteTime": {
     "end_time": "2025-05-29T17:01:36.775208700Z",
     "start_time": "2025-05-29T17:01:35.767969400Z"
    }
   }
  },
  {
   "cell_type": "code",
   "execution_count": null,
   "outputs": [],
   "source": [],
   "metadata": {
    "collapsed": false
   }
  }
 ],
 "metadata": {
  "kernelspec": {
   "display_name": "Python 3",
   "language": "python",
   "name": "python3"
  },
  "language_info": {
   "codemirror_mode": {
    "name": "ipython",
    "version": 2
   },
   "file_extension": ".py",
   "mimetype": "text/x-python",
   "name": "python",
   "nbconvert_exporter": "python",
   "pygments_lexer": "ipython2",
   "version": "2.7.6"
  }
 },
 "nbformat": 4,
 "nbformat_minor": 0
}
